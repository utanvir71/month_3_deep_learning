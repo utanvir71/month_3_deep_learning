{
 "cells": [
  {
   "cell_type": "markdown",
   "id": "f8a6fbba",
   "metadata": {},
   "source": [
    "# **GETING STARTED WITH NEURAL NETWORK: CALSSIFICATION AND REGRESSION**"
   ]
  },
  {
   "cell_type": "markdown",
   "id": "d5f1d84f",
   "metadata": {},
   "source": [
    "There will be three task:\n",
    "1. Classifiying movie reviews as positive or negative (binary classification)\n",
    "2. Classifiying news wires by topic (mullticlass classfication)\n",
    "3. Estimating the price of a house, given real-estate data (scalar regression)"
   ]
  },
  {
   "cell_type": "markdown",
   "id": "921dd95a",
   "metadata": {},
   "source": [
    "These example will be our first contact with end-to-end deep learning workflows"
   ]
  },
  {
   "cell_type": "markdown",
   "id": "21c353f0",
   "metadata": {},
   "source": [
    "## **CLASSIFYING MOVIE REVIEWS: A binary classification example**"
   ]
  },
  {
   "cell_type": "markdown",
   "id": "1a74362d",
   "metadata": {},
   "source": [
    "### **THE ***IMDB*** DATASET**"
   ]
  },
  {
   "cell_type": "code",
   "execution_count": null,
   "id": "50a1e257",
   "metadata": {},
   "outputs": [],
   "source": [
    "import torch\n",
    "from torchtext.datasets import IMDB\n"
   ]
  }
 ],
 "metadata": {
  "kernelspec": {
   "display_name": ".venv_tf (3.11.13)",
   "language": "python",
   "name": "python3"
  },
  "language_info": {
   "codemirror_mode": {
    "name": "ipython",
    "version": 3
   },
   "file_extension": ".py",
   "mimetype": "text/x-python",
   "name": "python",
   "nbconvert_exporter": "python",
   "pygments_lexer": "ipython3",
   "version": "3.11.13"
  }
 },
 "nbformat": 4,
 "nbformat_minor": 5
}
