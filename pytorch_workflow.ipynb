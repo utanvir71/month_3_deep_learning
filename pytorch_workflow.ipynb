{
 "cells": [
  {
   "cell_type": "markdown",
   "id": "5cd617da",
   "metadata": {},
   "source": [
    "1. Data (prepare and load)<br>\n",
    "2. Build Model<br>\n",
    "3. fitting the model to data<br>\n",
    "4. making predictions and evaluating a model (inference)<br>\n",
    "5. saving and loading a model <br>\n",
    "6. puddint it all together"
   ]
  },
  {
   "cell_type": "code",
   "execution_count": 24,
   "id": "6361cee1",
   "metadata": {},
   "outputs": [],
   "source": [
    "import torch, torchvision\n",
    "import torch.nn as nn\n",
    "import matplotlib.pyplot as plt"
   ]
  },
  {
   "cell_type": "markdown",
   "id": "fe63515d",
   "metadata": {},
   "source": [
    "# 1. Data (prepareing and loading)\n",
    "\n",
    "Data can be almost anythibng... in machine learning.\n",
    "* Excel spreedsheet\n",
    "* Images of any kind\n",
    "* Videos (Youtube has a lots of data...)\n",
    "* Audio like shongs or podcasts\n",
    "* DNA\n",
    "* Text\n",
    "\n",
    "Machine learning is a game of two parts:\n",
    "1. Get data into a numerical representation\n",
    "2. BUIld a model to learn pattern in that numerical representation\n",
    "\n",
    "let's create some known data using the linear regression formula.\n",
    "we'll use a linear regression formula to make a straight line with *known* ***parameters***"
   ]
  },
  {
   "cell_type": "code",
   "execution_count": 25,
   "id": "1c30b504",
   "metadata": {},
   "outputs": [
    {
     "data": {
      "text/plain": [
       "(tensor([[0.0000],\n",
       "         [0.0200],\n",
       "         [0.0400],\n",
       "         [0.0600],\n",
       "         [0.0800],\n",
       "         [0.1000],\n",
       "         [0.1200],\n",
       "         [0.1400],\n",
       "         [0.1600],\n",
       "         [0.1800]]),\n",
       " tensor([[0.3000],\n",
       "         [0.3140],\n",
       "         [0.3280],\n",
       "         [0.3420],\n",
       "         [0.3560],\n",
       "         [0.3700],\n",
       "         [0.3840],\n",
       "         [0.3980],\n",
       "         [0.4120],\n",
       "         [0.4260]]))"
      ]
     },
     "execution_count": 25,
     "metadata": {},
     "output_type": "execute_result"
    }
   ],
   "source": [
    "# Create *known* parameters\n",
    "weight = 0.7\n",
    "bias = 0.3\n",
    "\n",
    "# create\n",
    "start = 0\n",
    "end = 1\n",
    "step = 0.02\n",
    "X = torch.arange(start, end, step).unsqueeze(dim = 1)\n",
    "y = bias + weight*X\n",
    "\n",
    "X[:10], y[:10]"
   ]
  },
  {
   "cell_type": "code",
   "execution_count": 26,
   "id": "2a603e3f",
   "metadata": {},
   "outputs": [
    {
     "data": {
      "text/plain": [
       "(50, 50)"
      ]
     },
     "execution_count": 26,
     "metadata": {},
     "output_type": "execute_result"
    }
   ],
   "source": [
    "len(X), len(y)"
   ]
  },
  {
   "cell_type": "markdown",
   "id": "7cf6f0cb",
   "metadata": {},
   "source": [
    "# Splitting data into training and test sets "
   ]
  },
  {
   "cell_type": "code",
   "execution_count": 27,
   "id": "55a496c4",
   "metadata": {},
   "outputs": [
    {
     "data": {
      "text/plain": [
       "(40, 40, 10, 10)"
      ]
     },
     "execution_count": 27,
     "metadata": {},
     "output_type": "execute_result"
    }
   ],
   "source": [
    " # create a train/test split\n",
    "train_split  = int(0.8*len(X))\n",
    "X_train, y_train = X[:train_split], y[:train_split]\n",
    "X_test, y_test = X[train_split:], y[train_split:]\n",
    "\n",
    "len(X_train), len(y_train), len(X_test), len(y_test)"
   ]
  },
  {
   "cell_type": "code",
   "execution_count": 28,
   "id": "ef632cd5",
   "metadata": {},
   "outputs": [],
   "source": [
    "def plot_prediction(train_data = X_train, train_labels = y_train,\n",
    "                    test_data = X_test, test_label = y_test,\n",
    "                    prediction=None):\n",
    "    \"\"\"\n",
    "    plot training data, test data and comapres predictions.\n",
    "    \"\"\"\n",
    "    plt.figure(figsize=(10,7))\n",
    "    \n",
    "    # plot training data in blue\n",
    "    plt.scatter(train_data, train_labels, c=\"skyblue\", s=4, label=\"Training data\")\n",
    "\n",
    "    # plot test data in green\n",
    "    plt.scatter(test_data, test_label, c='black', s=4, label='Tesing data')\n",
    "\n",
    "    # Are there preidicintion?\n",
    "    if prediction is not None:\n",
    "        plt.scatter(test_data, prediction, c='r', s=4, label='Prediction')\n",
    "\n",
    "    plt.legend()\n",
    "    plt.show()\n",
    "\n"
   ]
  },
  {
   "cell_type": "code",
   "execution_count": 29,
   "id": "e4b2df63",
   "metadata": {},
   "outputs": [
    {
     "data": {
      "image/png": "[encoded data removed]",
      "text/plain": [
       "<Figure size 1000x700 with 1 Axes>"
      ]
     },
     "metadata": {},
     "output_type": "display_data"
    }
   ],
   "source": [
    "plot_prediction()"
   ]
  },
  {
   "cell_type": "markdown",
   "id": "11956ed7",
   "metadata": {},
   "source": [
    "# Building model"
   ]
  },
  {
   "cell_type": "code",
   "execution_count": 30,
   "id": "31caeb1d",
   "metadata": {},
   "outputs": [],
   "source": [
    "# Create linear regression model class\n",
    "from torch import nn\n",
    "\n",
    "class LinearRegressionModel(nn.Module): #<= almost everything in PyTorch model inheretes from nn\n",
    "    def __init__(self):\n",
    "        super().__init__()\n",
    "        self.weights = nn.Parameter(torch.randn(1,\n",
    "                                                requires_grad=True,\n",
    "                                                dtype=torch.float))\n",
    "        self.bias = nn.Parameter(torch.rand(1,\n",
    "                                            requires_grad=True,\n",
    "                                            dtype=torch.float))\n",
    "        # Forward method to define the computation in the model\n",
    "    def forward(self, x: torch.Tensor) -> torch.Tensor:\n",
    "        return (self.bias + self.weights * x )\n",
    "        "
   ]
  },
  {
   "cell_type": "markdown",
   "id": "a3f33ac3",
   "metadata": {},
   "source": [
    "### Pytorch model building essentials\n",
    "\n",
    "```c++\n",
    "torch.nn, torch.optim, torch.utils.data.Dataset and torch.utils.data.DataLoader\n",
    "```\n",
    "```c++\n",
    "torch.nn.Parameter, torch.nn.Module, def forward()\n",
    "```"
   ]
  },
  {
   "cell_type": "markdown",
   "id": "9f55e963",
   "metadata": {},
   "source": [
    "### Checking the contents of our PyTorch model\n",
    "\n",
    "Now we've creted a model, let's see what's inside\n",
    "So we can check our model parameters or what's inside our model using `.parameters()`"
   ]
  },
  {
   "cell_type": "code",
   "execution_count": 74,
   "id": "f6d9a672",
   "metadata": {},
   "outputs": [
    {
     "data": {
      "text/plain": [
       "[Parameter containing:\n",
       " tensor([0.5568], requires_grad=True),\n",
       " Parameter containing:\n",
       " tensor([0.1374], requires_grad=True)]"
      ]
     },
     "execution_count": 74,
     "metadata": {},
     "output_type": "execute_result"
    }
   ],
   "source": [
    "# Create a random seed\n",
    "# torch.manual_seed(42)\n",
    "\n",
    "# create an instance of the model (this is a subclass of nn.Module)\n",
    "model_0 = LinearRegressionModel()\n",
    "\n",
    "# check out the parameters\n",
    "list(model_0.parameters())"
   ]
  },
  {
   "cell_type": "code",
   "execution_count": 75,
   "id": "a958458d",
   "metadata": {},
   "outputs": [
    {
     "data": {
      "text/plain": [
       "OrderedDict([('weights', tensor([0.5568])), ('bias', tensor([0.1374]))])"
      ]
     },
     "execution_count": 75,
     "metadata": {},
     "output_type": "execute_result"
    }
   ],
   "source": [
    "model_0.state_dict() "
   ]
  },
  {
   "cell_type": "code",
   "execution_count": 76,
   "id": "26383bf1",
   "metadata": {},
   "outputs": [
    {
     "data": {
      "text/plain": [
       "tensor([[0.5828],\n",
       "        [0.5940],\n",
       "        [0.6051],\n",
       "        [0.6163],\n",
       "        [0.6274],\n",
       "        [0.6385],\n",
       "        [0.6497],\n",
       "        [0.6608],\n",
       "        [0.6719],\n",
       "        [0.6831]])"
      ]
     },
     "execution_count": 76,
     "metadata": {},
     "output_type": "execute_result"
    }
   ],
   "source": [
    "with torch.inference_mode():\n",
    "    y_pred = model_0(X_test)\n",
    "\n",
    "y_pred"
   ]
  },
  {
   "cell_type": "code",
   "execution_count": 77,
   "id": "6c1dfa82",
   "metadata": {},
   "outputs": [
    {
     "data": {
      "text/plain": [
       "tensor([[0.8600],\n",
       "        [0.8740],\n",
       "        [0.8880],\n",
       "        [0.9020],\n",
       "        [0.9160],\n",
       "        [0.9300],\n",
       "        [0.9440],\n",
       "        [0.9580],\n",
       "        [0.9720],\n",
       "        [0.9860]])"
      ]
     },
     "execution_count": 77,
     "metadata": {},
     "output_type": "execute_result"
    }
   ],
   "source": [
    "y_test"
   ]
  },
  {
   "cell_type": "code",
   "execution_count": 78,
   "id": "5068264f",
   "metadata": {},
   "outputs": [
    {
     "data": {
      "image/png": "[encoded data removed]",
      "text/plain": [
       "<Figure size 1000x700 with 1 Axes>"
      ]
     },
     "metadata": {},
     "output_type": "display_data"
    }
   ],
   "source": [
    "plot_prediction(prediction=y_pred)"
   ]
  },
  {
   "cell_type": "markdown",
   "id": "9a80f705",
   "metadata": {},
   "source": [
    "## Train model\n",
    "* **`Loss function:`** Measures how wrong your model's predictions (e.g.: y_preds are compared to the truth labels (e.g. y_test)).\n",
    "* **`Optimizer:`** Takes into account the loss of the model and adjust the model's parameters (e.g.: wight & bias)\n",
    "\n",
    "And specially for PyTorch, we need:\n",
    "* A training loop\n",
    "* A testing loop"
   ]
  },
  {
   "cell_type": "code",
   "execution_count": 79,
   "id": "78c7dfeb",
   "metadata": {},
   "outputs": [
    {
     "data": {
      "text/plain": [
       "[Parameter containing:\n",
       " tensor([0.5568], requires_grad=True),\n",
       " Parameter containing:\n",
       " tensor([0.1374], requires_grad=True)]"
      ]
     },
     "execution_count": 79,
     "metadata": {},
     "output_type": "execute_result"
    }
   ],
   "source": [
    "list(model_0.parameters())"
   ]
  },
  {
   "cell_type": "code",
   "execution_count": 80,
   "id": "352aa90b",
   "metadata": {},
   "outputs": [
    {
     "data": {
      "text/plain": [
       "OrderedDict([('weights', tensor([0.5568])), ('bias', tensor([0.1374]))])"
      ]
     },
     "execution_count": 80,
     "metadata": {},
     "output_type": "execute_result"
    }
   ],
   "source": [
    "model_0.state_dict()"
   ]
  },
  {
   "cell_type": "code",
   "execution_count": null,
   "id": "e306dfcf",
   "metadata": {},
   "outputs": [],
   "source": [
    "# Setup a loss function\n",
    "loss_fn = nn.L1Loss()\n",
    "\n",
    "# Setup an optimizer (stochastic gradient decent)\n",
    "optimizer = torch.optim.SGD(params = model_0.parameters(),\n",
    "                            lr = 0.01) # learning rate (how much \n",
    "                            # optimizer should change parameters at \n",
    "                            # each steps, hiegher=more\n",
    "                            # (less stable), \n",
    "                            # lower=less(might take a long time))"
   ]
  },
  {
   "cell_type": "markdown",
   "id": "63edabed",
   "metadata": {},
   "source": [
    "### Creating an optimization loop in PyTorch\n",
    "It's time to create a training loop(and testing loop).\n",
    "The traning loop involves the model going through the training data and learning the relation ships between the *features* and *labels*."
   ]
  },
  {
   "cell_type": "markdown",
   "id": "fcb21590",
   "metadata": {},
   "source": [
    "A couple of things we need in a training loop:\n",
    "0. Loop through the data\n",
    "1. Forward pass/propagation\n",
    "2. calculate the loss\n",
    "3. Optimizer zero grad\n",
    "4. Loss backward (**back_propagation**)\n",
    "5. Optimizeer setp\n"
   ]
  },
  {
   "cell_type": "code",
   "execution_count": 85,
   "id": "e5bdd37c",
   "metadata": {},
   "outputs": [
    {
     "data": {
      "text/plain": [
       "[Parameter containing:\n",
       " tensor([0.5568], requires_grad=True),\n",
       " Parameter containing:\n",
       " tensor([0.1374], requires_grad=True)]"
      ]
     },
     "execution_count": 85,
     "metadata": {},
     "output_type": "execute_result"
    }
   ],
   "source": [
    "list(model_0.parameters())"
   ]
  },
  {
   "cell_type": "code",
   "execution_count": null,
   "id": "19069c10",
   "metadata": {},
   "outputs": [],
   "source": [
    "# An epoch is one loop through the data...\n",
    "epochs = 1\n",
    "\n",
    "# 0. Loop through the data\n",
    "for epoch in range(epochs):\n",
    "    # set the model to training mode\n",
    "    model_0.train() # train mode in PyTroch set\n",
    "    \n",
    "    # 1. Forward pass on train \n",
    "    y_pred = model_0(X_train)\n",
    "\n",
    "    # 2. Calculate the loss \n",
    "    loss = loss_fn(y_pred, y_train)\n",
    "\n",
    "    # 3. Optimizer zero grad\n",
    "    optimizer.zero_grad()\n",
    "\n",
    "    # 4. Perform backpropagation on the loss with respect to the parameters of the model\n",
    "    loss.backward()\n",
    "\n",
    "    # 5. Step the optimizer (perform graident decent)\n",
    "    optimizer.step() # by defualt how the optimizer changes will accumulate throught the loop so ... we hae to zero them.\n",
    "\n",
    "    # model_0.eval() # turns of the model loss tracking\n"
   ]
  }
 ],
 "metadata": {
  "kernelspec": {
   "display_name": ".venv (3.12.7)",
   "language": "python",
   "name": "python3"
  },
  "language_info": {
   "codemirror_mode": {
    "name": "ipython",
    "version": 3
   },
   "file_extension": ".py",
   "mimetype": "text/x-python",
   "name": "python",
   "nbconvert_exporter": "python",
   "pygments_lexer": "ipython3",
   "version": "3.12.7"
  }
 },
 "nbformat": 4,
 "nbformat_minor": 5
}
